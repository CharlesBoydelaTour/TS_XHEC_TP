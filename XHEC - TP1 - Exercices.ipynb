{
 "cells": [
  {
   "cell_type": "markdown",
   "id": "73bcb97a",
   "metadata": {},
   "source": [
    "# Theorical part"
   ]
  },
  {
   "cell_type": "markdown",
   "id": "71380ed3",
   "metadata": {},
   "source": [
    "### Definition and Objectives :\n",
    "\n",
    "- Definition:The process of creating and transforming features from raw data.\n",
    "- Objective: Optimize the performance of machine learning models.\n",
    "\n",
    "### Why is it Crucial?\n",
    "\n",
    "- Model Accuracy: Improve accuracy by providing more meaningful data.\n",
    "- Data Understanding: Helps discover key patterns and relationships in the data.\n",
    "- Algorithm Adaptation: Prepares data to meet the specific requirements\n",
    "requirements of machine learning algorithms.\n",
    "- Contributes to a deeper understanding of the factors influencing the phenomena studied, such as energy consumption.\n",
    "- Facilitates better data-driven decision-making.\n",
    "\n",
    "### Key techniques :\n",
    "\n",
    "- Temporal Extraction: Extraction of features such as time, day and month to capture temporal trends.\n",
    "- Normalization: Adjustment of data scales for uniform comparison.\n",
    "- Categorization: Transform continuous data into categories for more intuitive analysis.\n",
    "- Lag Features: Creation of features based on past values to capture temporal dynamics.\n",
    "Global Impact:"
   ]
  },
  {
   "cell_type": "markdown",
   "id": "b89ae6b7",
   "metadata": {},
   "source": [
    "# Technical part"
   ]
  },
  {
   "cell_type": "code",
   "execution_count": null,
   "id": "7fe7f593",
   "metadata": {},
   "outputs": [],
   "source": [
    "import gdown\n",
    "\n",
    "url = \"https://drive.google.com/drive/folders/10fxlNGVm3xIJQLB958CU56T6UTGp_md0?usp=drive_link\"\n",
    "gdown.download_folder(url, quiet=True, use_cookies=False)"
   ]
  },
  {
   "cell_type": "markdown",
   "id": "dc8ef5c3",
   "metadata": {},
   "source": [
    "## 1. Consolidate data"
   ]
  },
  {
   "cell_type": "markdown",
   "id": "a9acf9b3",
   "metadata": {},
   "source": [
    "## Consolidating Energy Consumption and Weather Data\n",
    "\n",
    "### Question:\n",
    "\n",
    "In energy consumption analysis, integrating different data sources, such as power usage and weather conditions, is essential for comprehensive analysis. Efficient consolidation of these diverse datasets into a single, cohesive dataset is key for effective analysis and modeling.\n",
    "\n",
    "#### Your Task:\n",
    "You are provided with several functions that handle the loading and preprocessing of energy consumption and weather data. Your task is to understand and analyze how these functions work together to consolidate data into a single dataset.\n",
    "\n",
    "#### Specifics:\n",
    "1. **Analyze the Data Preprocessing Function**:\n",
    "   - Understand how this function preprocesses individual datasets. Focus on its parameters and the transformations it applies, such as grouping, resampling, and interpolation.\n",
    "\n",
    "2. **Examine the Data Loading Functions**:\n",
    "   - Describe how these functions load energy consumption and weather data. Discuss the steps involved in preprocessing this data.\n",
    "\n",
    "3. **Explore the Data Consolidation Function**:\n",
    "   - Analyze how this function combines energy consumption and weather data into a single dataset.\n",
    "   - Explain the process of merging these datasets and how the final dataset is structured.\n",
    "\n",
    "#### Expected Outcome:\n",
    "- Provide a comprehensive overview of how the provided functions work together to consolidate different types of data into a unified dataset.\n",
    "- Illustrate how this consolidated dataset can be used for in-depth energy consumption analysis.\n",
    "\n",
    "\n",
    "#### Input data\n",
    "- consommation-quotidienne-brute-regionale.csv\"\n",
    "- donnees-synop-essentielles-omm.csv\n"
   ]
  },
  {
   "cell_type": "markdown",
   "id": "3cbe9a7b",
   "metadata": {},
   "source": [
    "## Apply feature eng functions"
   ]
  },
  {
   "cell_type": "markdown",
   "id": "5f358d5b",
   "metadata": {},
   "source": [
    "### Temporal Component Extraction from Energy Consumption Data\n",
    "In the field of energy consumption analysis, understanding how consumption varies across different times is crucial. Time-based patterns can significantly influence energy usage.\n",
    "\n",
    "#### Task:\n",
    "Write a Python function named `extract_time_features` that extracts and incorporates various time components from a DataFrame containing energy consumption data. This\n"
   ]
  },
  {
   "cell_type": "code",
   "execution_count": null,
   "id": "9c578cce",
   "metadata": {},
   "outputs": [],
   "source": [
    "def extract_time_features(df):\n",
    "    return df"
   ]
  },
  {
   "cell_type": "markdown",
   "id": "1d4ab0bc",
   "metadata": {},
   "source": [
    "### Standardization of Influential Variables\n",
    "\n",
    "\n",
    "\n",
    "\n",
    "In the analysis of datasets, particularly in fields like energy consumption, certain variables significantly impact model performance and insights. These variables often come in different scales, which can skew analysis and lead to biased interpretations. Standardizing these variables is crucial for putting them on a common scale, enabling fair comparison and more accurate modeling.\n",
    "\n",
    "#### Task:\n",
    "Write a Python function named `normalize_variables` that standardizes key influential variables in a DataFrame. You need to identify a variable that significantly influences your analysis and apply normalization to it.\n",
    "\n",
    "\n"
   ]
  },
  {
   "cell_type": "code",
   "execution_count": null,
   "id": "170d8a0c",
   "metadata": {},
   "outputs": [],
   "source": [
    "def normalize_variables(df):\n",
    "    return df"
   ]
  },
  {
   "cell_type": "markdown",
   "id": "42176a68",
   "metadata": {},
   "source": [
    "### Categorization of Continuous Data\n",
    "\n",
    "\n",
    "In data analysis, particularly in energy consumption, transforming continuous data into categorical data can simplify the understanding and interpretation of its impact. This is especially true for variables like cloudiness, where categorizing the data can more clearly illustrate its effect on energy consumption.\n",
    "\n",
    "#### Task:\n",
    "1. Write a Python function named `categorize_cloudiness` that transforms the continuous cloudiness data into categorical data. \n",
    "2. Additionally, create a function `high_consumption_indicator` that categorizes energy consumption as high based on a predefined threshold.\n",
    "\n"
   ]
  },
  {
   "cell_type": "code",
   "execution_count": null,
   "id": "69af5aae",
   "metadata": {},
   "outputs": [],
   "source": [
    "def categorize_cloudiness(df):\n",
    "    return df\n",
    "\n",
    "\n",
    "def high_consumption_indicator(df):\n",
    "    return df"
   ]
  },
  {
   "cell_type": "markdown",
   "id": "aacf770f",
   "metadata": {},
   "source": [
    "### Creating Extended Lag Features\n",
    "\n",
    "\n",
    "In predictive modeling, especially in energy consumption forecasting, understanding how past consumption influences future forecasts is crucial. Lag features capture these temporal dynamics, enabling models to integrate the impact of past conditions and behaviors on current forecasts.\n",
    "\n",
    "#### Task:\n",
    "Write a Python function named `create_extended_lag_features` that generates multiple lag features for different time intervals in a DataFrame containing energy consumption data.\n",
    "\n",
    "#### Specifics:\n",
    "\n",
    "- Define various lag intervals (e.g., 1 day, 7 days, 1 week, 4 weeks, 1 year).\n",
    "- Create lag features for each interval by shifting the 'Consommation brute électricité (MW) \n"
   ]
  },
  {
   "cell_type": "code",
   "execution_count": null,
   "id": "9bccbfca",
   "metadata": {},
   "outputs": [],
   "source": [
    "def create_extended_lag_features(df):\n",
    "    return df"
   ]
  },
  {
   "cell_type": "markdown",
   "id": "614785b7",
   "metadata": {},
   "source": [
    "## 2. Optional : Try strandard Machine Learning models"
   ]
  },
  {
   "cell_type": "markdown",
   "id": "4fef2492",
   "metadata": {},
   "source": [
    "Implement a classical machine learning model to predict the energy consumption of the next 24 hours for Ile de France."
   ]
  }
 ],
 "metadata": {
  "kernelspec": {
   "display_name": "Python 3 (ipykernel)",
   "language": "python",
   "name": "python3"
  },
  "language_info": {
   "codemirror_mode": {
    "name": "ipython",
    "version": 3
   },
   "file_extension": ".py",
   "mimetype": "text/x-python",
   "name": "python",
   "nbconvert_exporter": "python",
   "pygments_lexer": "ipython3",
   "version": "3.11.5"
  }
 },
 "nbformat": 4,
 "nbformat_minor": 5
}
