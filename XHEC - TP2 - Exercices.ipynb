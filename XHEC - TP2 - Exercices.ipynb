{
 "cells": [
  {
   "cell_type": "markdown",
   "id": "31aafb9e",
   "metadata": {},
   "source": [
    "# Deep Learning for Time Series Forecasting : Introduction to RNN and LSTM"
   ]
  },
  {
   "cell_type": "markdown",
   "id": "dce883d8",
   "metadata": {},
   "source": [
    "In this notebook, we will learn how to implement a recurrent neural network from scratch using Pytorch. We will also see how to use LSTM to solve a multivariate time series forecasting problem.\n",
    "The task is to forecast the next day consumption of power of power given the passed day data."
   ]
  },
  {
   "cell_type": "markdown",
   "id": "2568bdf3",
   "metadata": {},
   "source": [
    "## 1. RNN from scratch in an univariate time series forecasting problem with a recursive approach"
   ]
  },
  {
   "cell_type": "markdown",
   "id": "36d6b052",
   "metadata": {},
   "source": [
    "#### Import and load data"
   ]
  },
  {
   "cell_type": "code",
   "execution_count": null,
   "id": "513ebd17",
   "metadata": {},
   "outputs": [],
   "source": [
    "# Import external modules\n",
    "import os\n",
    "import pandas as pd\n",
    "from sklearn.preprocessing import MinMaxScaler\n",
    "from sklearn.preprocessing import MinMaxScaler\n",
    "\n",
    "# Data loader\n",
    "from torch.utils.data import TensorDataset, DataLoader\n",
    "import numpy as np\n",
    "import torch\n",
    "import torch.nn as nn\n",
    "\n",
    "pd.options.plotting.backend = \"plotly\""
   ]
  },
  {
   "cell_type": "code",
   "execution_count": null,
   "id": "1a533191",
   "metadata": {},
   "outputs": [],
   "source": [
    "processed_data_path = \"data/\"\n",
    "processed_filename = os.path.join(processed_data_path, \"clean-data-consolidated.csv\")\n",
    "data = pd.read_csv(processed_filename)\n",
    "# Convert 'Date - Heure' to datetime and set as index\n",
    "data[\"Date - Heure\"] = pd.to_datetime(data[\"Date - Heure\"])\n",
    "data.set_index(\"Date - Heure\", inplace=True)\n",
    "\n",
    "# select only \"Île-de-France\"\n",
    "data_iledefrance = data[data[\"Région\"] == \"Île-de-France\"]\n",
    "# Focusing on the 'Consommation brute électricité (MW) - RTE' column\n",
    "ts_data = data_iledefrance[\"Consommation brute électricité (MW) - RTE\"]"
   ]
  },
  {
   "cell_type": "code",
   "execution_count": null,
   "id": "eff5de10",
   "metadata": {},
   "outputs": [],
   "source": [
    "# Check for GPU availability\n",
    "device = torch.device(\"cuda\" if torch.cuda.is_available() else \"cpu\")\n",
    "print(f\"Using device: {device}\")"
   ]
  },
  {
   "cell_type": "markdown",
   "id": "36c707db",
   "metadata": {},
   "source": [
    "### Preprocessing of the data"
   ]
  },
  {
   "cell_type": "markdown",
   "id": "aa81c23e",
   "metadata": {},
   "source": [
    "The first requirement is to create the sequences. In a first approach we will use a the last 24 hours to predict the next hour. We will then use the Recursive Multi-Step Forecasting strategy to predict the next 24 hours."
   ]
  },
  {
   "cell_type": "code",
   "execution_count": null,
   "id": "d2dbda8c",
   "metadata": {},
   "outputs": [],
   "source": [
    "# Normalizing the data\n",
    "scaler = MinMaxScaler(feature_range=(-1, 1))\n",
    "ts_scaled = scaler.fit_transform(ts_data.values.reshape(-1, 1))\n",
    "\n",
    "\n",
    "# Function to create sequences\n",
    "def create_sequences_rec(data, seq_length):\n",
    "    \"\"\"Create sequences of seq_length from data. And return X and y with y being the next value after X.\"\"\"\n",
    "    xs = []\n",
    "    ys = []\n",
    "\n",
    "    for i in range(len(data) - seq_length):\n",
    "        x = # TODO\n",
    "        y = # TODO\n",
    "        xs.append(x)\n",
    "        ys.append(y)\n",
    "\n",
    "    return np.array(xs), np.array(ys)\n",
    "\n",
    "\n",
    "# Defining the sequence length (number of hours to use for prediction)\n",
    "seq_length = 24  # using last 24 hours to predict the next hour\n",
    "X, y = create_sequences_rec(ts_scaled, seq_length)\n",
    "\n",
    "# Splitting the data into training and test sets\n",
    "train_size = int(0.8 * len(X))\n",
    "X_train, X_test = X[:train_size], X[train_size:]\n",
    "y_train, y_test = y[:train_size], y[train_size:]\n",
    "\n",
    "# Converting to PyTorch tensors\n",
    "X_train = torch.tensor(X_train, dtype=torch.float32)\n",
    "y_train = torch.tensor(y_train, dtype=torch.float32)\n",
    "X_test = torch.tensor(X_test, dtype=torch.float32)\n",
    "y_test = torch.tensor(y_test, dtype=torch.float32)\n",
    "\n",
    "X_train.shape, y_train.shape, X_test.shape, y_test.shape\n",
    "\n",
    "test_data = TensorDataset(X_test, y_test)\n",
    "\n",
    "# shuffle the training data without dataloader\n",
    "indices = torch.randperm(len(X_train))\n",
    "X_train = X_train[indices]\n",
    "y_train = y_train[indices]\n",
    "train_data = TensorDataset(X_train, y_train)\n",
    "\n",
    "print(f\"Number of training samples: {len(train_data)}\")\n",
    "print(f\"Number of test samples: {len(test_data)}\")"
   ]
  },
  {
   "cell_type": "markdown",
   "id": "bcc389cc",
   "metadata": {},
   "source": [
    "### Model definition"
   ]
  },
  {
   "cell_type": "code",
   "execution_count": null,
   "id": "4af7dd7f",
   "metadata": {},
   "outputs": [],
   "source": [
    "import torch\n",
    "import torch.nn as nn\n",
    "import torch.nn.functional as F\n",
    "\n",
    "\n",
    "class RNN(nn.Module):\n",
    "    def __init__(self, input_size, hidden_size, output_size):\n",
    "        super(RNN, self).__init__()\n",
    "        self.hidden_size = hidden_size\n",
    "        self.in2hidden = nn.Linear(input_size + hidden_size, hidden_size)\n",
    "        self.in2output = nn.Linear(input_size + hidden_size, output_size)\n",
    "\n",
    "    def forward(self, x, hidden_state):\n",
    "        combined = # TODO\n",
    "        hidden = # TODO\n",
    "        output = # TODO\n",
    "        return output, hidden\n",
    "\n",
    "    def initHidden(self):\n",
    "        return nn.init.kaiming_uniform_(\n",
    "            torch.empty(1, self.hidden_size)\n",
    "        )  # Add batch_size as the first dimension\n",
    "\n",
    "\n",
    "# Instantiate the model\n",
    "input_size = 1\n",
    "hidden_size = 64\n",
    "output_size = 1\n",
    "model = RNN(input_size, hidden_size, output_size).to(device)"
   ]
  },
  {
   "cell_type": "markdown",
   "id": "a8cca1a6",
   "metadata": {},
   "source": [
    "### Training"
   ]
  },
  {
   "cell_type": "code",
   "execution_count": null,
   "id": "ac0d4209",
   "metadata": {},
   "outputs": [],
   "source": [
    "from tqdm import tqdm\n",
    "import matplotlib.pyplot as plt\n",
    "\n",
    "# Loss and optimizer\n",
    "criterion = nn.MSELoss()\n",
    "optimizer = torch.optim.Adam(model.parameters(), lr=0.0001)\n",
    "\n",
    "\n",
    "# Training loop\n",
    "num_epochs = 100\n",
    "\n",
    "\n",
    "def evaluate(model, X_test, y_test, criterion):\n",
    "    model.eval()  # Set the model to evaluation mode\n",
    "    total_loss = 0\n",
    "    with torch.no_grad():  # No need to track gradients\n",
    "        for batch in range(len(X_test)):\n",
    "            hidden = model.initHidden().to(device)\n",
    "            X_batch = X_test[batch].to(device)\n",
    "            y_batch = y_test[batch].to(device)\n",
    "            for t in range(seq_length):\n",
    "                output, hidden = #TODO\n",
    "            output = output.view(-1)\n",
    "            loss = criterion(output, y_batch)\n",
    "            total_loss += loss.item()\n",
    "    return total_loss / len(X_test)\n",
    "\n",
    "\n",
    "# Lists to store loss values\n",
    "training_losses = []\n",
    "testing_losses = []\n",
    "\n",
    "# Training loop with evaluation\n",
    "for epoch in tqdm(range(num_epochs), desc=\"Epochs\"):\n",
    "    model.train()\n",
    "    train_loss = 0\n",
    "    for batch in range(len(X_train)):\n",
    "        hidden = model.initHidden().to(device)\n",
    "        X_batch = X_train[batch].to(device)\n",
    "        y_batch = y_train[batch].to(device)\n",
    "        model.zero_grad()\n",
    "        for t in range(seq_length):\n",
    "            output, hidden = # TODO\n",
    "        output = output.view(-1)\n",
    "        \n",
    "        loss = criterion(output, y_batch)\n",
    "        train_loss += loss.item()\n",
    "        \n",
    "        loss.backward()\n",
    "        optimizer.step()\n",
    "    avg_train_loss = train_loss / len(X_train)\n",
    "    training_losses.append(avg_train_loss)\n",
    "\n",
    "    # Evaluate on test data\n",
    "    avg_test_loss = evaluate(model, X_test, y_test, criterion)\n",
    "    testing_losses.append(avg_test_loss)\n",
    "\n",
    "    # Print average losses for the epoch\n",
    "    print(\n",
    "        f\"Epoch {epoch+1}/{num_epochs}, Train Loss: {avg_train_loss:.4f}, Test Loss: {avg_test_loss:.4f}\"\n",
    "    )\n",
    "\n",
    "# Plotting the training and testing loss curves\n",
    "plt.figure(figsize=(10, 5))\n",
    "plt.plot(training_losses, label=\"Training Loss\")\n",
    "plt.plot(testing_losses, label=\"Testing Loss\")\n",
    "plt.title(\"Training and Testing Loss Curves\")\n",
    "plt.xlabel(\"Epoch\")\n",
    "plt.ylabel(\"Loss\")\n",
    "plt.legend()\n",
    "plt.show()"
   ]
  },
  {
   "cell_type": "markdown",
   "id": "706b5aa0",
   "metadata": {},
   "source": [
    "In case of lack of GPUs, you can load the trained model :"
   ]
  },
  {
   "cell_type": "code",
   "execution_count": null,
   "id": "6caa7d3c",
   "metadata": {},
   "outputs": [],
   "source": [
    "# save model to disk\n",
    "# torch.save(model.state_dict(), \"rnn_model.pt\")\n",
    "# model = RNN(input_size, hidden_size, output_size).to(device)\n",
    "# model.load_state_dict(torch.load(\"rnn_model.pt\"))"
   ]
  },
  {
   "cell_type": "code",
   "execution_count": null,
   "id": "accf272e",
   "metadata": {},
   "outputs": [],
   "source": [
    "def predict_recursive(model, initial_sequence, num_predictions):\n",
    "    model.eval()  # Set the model to evaluation mode\n",
    "    predictions = []\n",
    "\n",
    "    # Use the last seq_length values from the training data as initial input\n",
    "    input_sequence = initial_sequence\n",
    "\n",
    "    # Initialize the hidden state\n",
    "    hidden = model.initHidden().to(\"cpu\")\n",
    "    model = model.to(\"cpu\")\n",
    "    input_sequence = input_sequence.to(\"cpu\")\n",
    "    \n",
    "    # Iterate over the length of the sequence we want to predict\n",
    "    for p in range(num_predictions):\n",
    "        for t in range(seq_length):\n",
    "            output, hidden = # TODO\n",
    "        input_sequence = torch.cat((input_sequence, output.view(1, 1)))\n",
    "        # remvoe the first element\n",
    "        input_sequence = input_sequence[1:]\n",
    "        predictions += [output.item()]\n",
    "    return predictions\n",
    "\n",
    "\n",
    "predictions = predict_recursive(model, X_test[0], 24)"
   ]
  },
  {
   "cell_type": "code",
   "execution_count": null,
   "id": "537f6599",
   "metadata": {},
   "outputs": [],
   "source": [
    "# Extract the real values for the last day from y_test\n",
    "# Assuming y_test is already in the correct scale\n",
    "real_values_last_day = y_test[-24:].cpu().numpy()\n",
    "# unscale real_values_last_day\n",
    "real_values_last_day = scaler.inverse_transform(real_values_last_day.reshape(-1, 1))\n",
    "predictions_rescaled = scaler.inverse_transform(np.array(predictions).reshape(-1, 1))\n",
    "# Plotting\n",
    "plt.figure(figsize=(12, 6))\n",
    "plt.plot(real_values_last_day, label=\"Real Values\", color=\"blue\", marker=\"o\")\n",
    "plt.plot(predictions_rescaled, label=\"Predictions\", color=\"red\", marker=\"x\")\n",
    "plt.title(\"Electricity Consumption: Real vs Predicted\")\n",
    "plt.xlabel(\"Hour\")\n",
    "plt.ylabel(\"Electricity Consumption (MW)\")\n",
    "plt.legend()\n",
    "plt.show()"
   ]
  },
  {
   "cell_type": "markdown",
   "id": "7f163bc1",
   "metadata": {},
   "source": [
    "## 2. LSTM in a univariate time series forecasting problem multi-output"
   ]
  },
  {
   "cell_type": "markdown",
   "id": "64617cbb",
   "metadata": {},
   "source": [
    "Now it is you turn : Implement a LSTM directly with the LSTM module in pytorch in a multi-output strategy the next 24 hours in an uni-variate time series forecasting problem."
   ]
  },
  {
   "cell_type": "code",
   "execution_count": null,
   "id": "de8ac382",
   "metadata": {},
   "outputs": [],
   "source": [
    "def create_sequences(ts_scaled, input_len, prediction_len):\n",
    "    \"\"\"Create sequences of input_len from data. And return X and y with y being the next value after X.\"\"\"\n",
    "    X = []\n",
    "    y = []\n",
    "\n",
    "    for i in range(len(ts_scaled) - input_len - prediction_len):\n",
    "        X.append(#TODO)\n",
    "        y.append(#TODO)\n",
    "\n",
    "    return np.array(X), np.array(y)\n",
    "\n",
    "\n",
    "# Defining the sequence length (number of hours to use for prediction)\n",
    "seq_length = 24  # using last 24 hours to predict the next hour\n",
    "prediction_len = 24\n",
    "X, y = create_sequences(ts_scaled, seq_length, prediction_len)\n",
    "\n",
    "# Splitting the data into training and test sets\n",
    "train_size = int(0.8 * len(X))\n",
    "X_train, X_test = X[:train_size], X[train_size:]\n",
    "y_train, y_test = y[:train_size], y[train_size:]\n",
    "\n",
    "# Converting to PyTorch tensors\n",
    "X_train = torch.tensor(X_train, dtype=torch.float32)\n",
    "y_train = torch.tensor(y_train, dtype=torch.float32)\n",
    "X_test = torch.tensor(X_test, dtype=torch.float32)\n",
    "y_test = torch.tensor(y_test, dtype=torch.float32)\n",
    "\n",
    "X_train.shape, y_train.shape, X_test.shape, y_test.shape\n",
    "\n",
    "test_data = TensorDataset(X_test, y_test)\n",
    "train_data = TensorDataset(X_train, y_train)\n",
    "\n",
    "batch_size = 32\n",
    "train_loader = DataLoader(train_data, batch_size=batch_size, shuffle=True)\n",
    "test_loader = DataLoader(test_data, batch_size=batch_size, shuffle=False)"
   ]
  },
  {
   "cell_type": "code",
   "execution_count": null,
   "id": "b033a94e",
   "metadata": {},
   "outputs": [],
   "source": [
    "import torch\n",
    "import torch.nn as nn\n",
    "import torch.nn.functional as F\n",
    "\n",
    "\n",
    "class LSTM(nn.Module):\n",
    "    #TODO\n",
    "\n",
    "\n",
    "# TODO : Instantiate the model"
   ]
  },
  {
   "cell_type": "code",
   "execution_count": null,
   "id": "0e231b49",
   "metadata": {},
   "outputs": [],
   "source": [
    "# TODO : Loss and optimizer\n",
    "# TODO : Training loop\n",
    "# TODO : Evaluate on test data"
   ]
  },
  {
   "cell_type": "markdown",
   "id": "765da549",
   "metadata": {},
   "source": [
    "## 3. LSTM in a multivariate time series forecasting problem"
   ]
  },
  {
   "cell_type": "markdown",
   "id": "fc920f0a",
   "metadata": {},
   "source": [
    "Now it is you turn : Implement a LSTM directly with the LSTM module in pytorch in a multi-output strategy the next 24 hours in an multi-variate time series forecasting problem.\n",
    "First try to incorporate the different features you have created in the previous notebook only for Ile-de-France. \n",
    "Then prepare the data for the whole regions."
   ]
  }
 ],
 "metadata": {
  "kernelspec": {
   "display_name": "Python 3 (ipykernel)",
   "language": "python",
   "name": "python3"
  },
  "language_info": {
   "codemirror_mode": {
    "name": "ipython",
    "version": 3
   },
   "file_extension": ".py",
   "mimetype": "text/x-python",
   "name": "python",
   "nbconvert_exporter": "python",
   "pygments_lexer": "ipython3",
   "version": "3.11.5"
  }
 },
 "nbformat": 4,
 "nbformat_minor": 5
}
